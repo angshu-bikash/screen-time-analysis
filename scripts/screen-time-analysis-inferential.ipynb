{
 "cells": [
  {
   "cell_type": "code",
   "execution_count": 13,
   "metadata": {},
   "outputs": [],
   "source": [
    "import pandas as pd\n",
    "import numpy as np\n",
    "import seaborn as sns\n",
    "import matplotlib.pyplot as plt\n",
    "from scipy import stats\n",
    "from scipy.stats import ttest_ind\n",
    "from scipy.stats import kruskal"
   ]
  },
  {
   "cell_type": "code",
   "execution_count": 14,
   "metadata": {},
   "outputs": [],
   "source": [
    "#load dataset\n",
    "merged_data = pd.read_csv(r\"C:\\Users\\ASUS\\Desktop\\Semester 1, 2\\Foundation of Data Science\\data\\merged_data.csv\")"
   ]
  },
  {
   "cell_type": "code",
   "execution_count": 15,
   "metadata": {},
   "outputs": [
    {
     "name": "stdout",
     "output_type": "stream",
     "text": [
      "T-test for Optm: t-statistic = -2.7814, p-value = 0.0054\n",
      "T-test for Cheer: t-statistic = -9.5911, p-value = 0.0000\n",
      "T-test for Loved: t-statistic = -9.7919, p-value = 0.0000\n",
      "T-test for Conf: t-statistic = -1.2680, p-value = 0.2048\n",
      "T-test for Dealpr: t-statistic = -10.6048, p-value = 0.0000\n",
      "T-test for Relx: t-statistic = 0.4683, p-value = 0.6395\n",
      "T-test for Engs: t-statistic = 1.6483, p-value = 0.0993\n",
      "T-test for Intp: t-statistic = -32.0802, p-value = 0.0000\n"
     ]
    }
   ],
   "source": [
    "\n",
    "# Conduct independent t-tests for each well-being indicator between deprived and non-deprived groups\n",
    "well_being_indicators = ['Optm', 'Cheer', 'Loved', 'Conf', 'Dealpr', 'Relx', 'Engs', 'Intp']\n",
    "\n",
    "# Loop through each indicator and perform t-test\n",
    "for indicator in well_being_indicators:\n",
    "    deprived_group = merged_data[merged_data['deprived'] == 1][indicator]\n",
    "    non_deprived_group = merged_data[merged_data['deprived'] == 0][indicator]\n",
    "    \n",
    "    t_stat, p_value = ttest_ind(deprived_group, non_deprived_group, nan_policy='omit')\n",
    "    print(f'T-test for {indicator}: t-statistic = {t_stat:.4f}, p-value = {p_value:.4f}')\n"
   ]
  },
  {
   "cell_type": "markdown",
   "metadata": {},
   "source": [
    "Given that the mean scores are quite similar between the deprived and non-deprived groups but the t-test results show significant differences, here’s a concise conclusion in three well-descriptive points:\n",
    "\n",
    "#### 1. Significant but Subtle Differences in Emotional Well-being:\n",
    "Although the mean well-being scores between deprived and non-deprived groups are very similar, the t-test reveals that non-deprived adolescents consistently report slightly higher scores in optimism, cheerfulness, and feeling loved. These small differences are statistically significant, suggesting that while the overall emotional well-being is comparable, adolescents in deprived areas may face subtle but meaningful disadvantages in these aspects.\n",
    "\n",
    "#### 2. Coping with Challenges and Social Engagement:\n",
    "The ability to deal with problems and the level of interest in others show some of the largest and most statistically significant differences. Non-deprived adolescents report feeling better equipped to handle challenges and more socially engaged, while adolescents in deprived areas may experience greater difficulties with problem-solving and social connection, despite the overall mean scores being close.\n",
    "\n",
    "#### 3. Limited Impact on Relaxation, Confidence, and Energy:\n",
    "Interestingly, no significant differences were found in the areas of relaxation, confidence, and energy levels between the two groups. This suggests that these well-being indicators are not strongly influenced by deprivation, with adolescents across both groups experiencing similar levels of relaxation and self-confidence, regardless of their socioeconomic background.\n",
    "\n",
    "\n",
    "These points encapsulate the findings: despite minor differences in the mean well-being scores, emotional and social well-being shows significant disparities that merit attention, especially in how deprived adolescents cope with problems and engage socially."
   ]
  },
  {
   "cell_type": "markdown",
   "metadata": {},
   "source": [
    "\n",
    "### Kruskal-Wallis Test: Non-parametric Test for Well-being and Screen Time (as it is ordinal data)\n",
    "\n",
    "Kruskal-Wallis is the better choice here for handling this ordinal data (rating: 1-5), especially when we are comparing multiple groups.\n",
    "Since ordinal data is not continuous and may not follow a normal distribution, Kruskal-Wallis is more appropriate than parametric tests like ANOVA, which assume normally distributed, continuous data."
   ]
  },
  {
   "cell_type": "code",
   "execution_count": 17,
   "metadata": {},
   "outputs": [
    {
     "name": "stdout",
     "output_type": "stream",
     "text": [
      "Kruskal-Wallis Test for Optm: H-statistic = 26.6863, p-value = 0.0000\n",
      "Kruskal-Wallis Test for Cheer: H-statistic = 18.6403, p-value = 0.0003\n",
      "Kruskal-Wallis Test for Loved: H-statistic = 15.8067, p-value = 0.0012\n",
      "Kruskal-Wallis Test for Conf: H-statistic = 37.6329, p-value = 0.0000\n",
      "Kruskal-Wallis Test for Dealpr: H-statistic = 5.7510, p-value = 0.1244\n",
      "Kruskal-Wallis Test for Relx: H-statistic = 1.3089, p-value = 0.7270\n",
      "Kruskal-Wallis Test for Engs: H-statistic = 17.5677, p-value = 0.0005\n",
      "Kruskal-Wallis Test for Intp: H-statistic = 14.1404, p-value = 0.0027\n"
     ]
    }
   ],
   "source": [
    "#categorize total screen time into Low, Medium, High\n",
    "bins = [0, 3, 6, 9, 12]  # You can adjust the bins as needed\n",
    "\n",
    "labels = ['Low', 'Medium', 'High', 'Very High']\n",
    "\n",
    "# Create the total screen time by summing screen time columns\n",
    "merged_data['total_screen_time'] = merged_data[['C_we', 'C_wk', 'G_we', 'G_wk', 'S_we', 'S_wk', 'T_we', 'T_wk']].sum(axis=1)\n",
    "\n",
    "\n",
    "merged_data['screen_time_category'] = pd.cut(merged_data['total_screen_time'], bins=bins, labels=labels)\n",
    "\n",
    "# Loop through well-being indicators and perform Kruskal-Wallis test\n",
    "well_being_indicators = ['Optm', 'Cheer', 'Loved', 'Conf', 'Dealpr', 'Relx', 'Engs', 'Intp']\n",
    "for indicator in well_being_indicators:\n",
    "    # Group the data based on screen time categories\n",
    "    groups = [merged_data[merged_data['screen_time_category'] == category][indicator] for category in labels]\n",
    "    \n",
    "    # Perform Kruskal-Wallis test\n",
    "    h_stat, p_value = kruskal(*groups)\n",
    "    \n",
    "    # Output the result\n",
    "    print(f'Kruskal-Wallis Test for {indicator}: H-statistic = {h_stat:.4f}, p-value = {p_value:.4f}')\n"
   ]
  },
  {
   "cell_type": "markdown",
   "metadata": {},
   "source": [
    "#### 1. Emotional Well-being Declines with Increased Screen Time\n",
    "Significant differences were found in **optimism** (H = 26.69, p < 0.001), **cheerfulness** (H = 18.64, p < 0.001), and **feeling loved** (H = 15.81, p = 0.001) across screen time categories. Adolescents with **higher screen time** report lower scores in these areas, indicating a **negative correlation** between screen time and emotional well-being, which suggests that excessive screen usage might reduce happiness and feelings of connection.\n",
    "\n",
    "Higher screen time could be correlated with lower levels of **happiness or cheerfulness**, suggesting that increased digital consumption may contribute to emotional fatigue.\n",
    "\n",
    "Higher screen time may contribute to feelings of isolation or reduced connection with family or friends (**feeling loved**), especially in the \"very high\" screen time category.\n",
    "\n",
    "#### 2. Confidence and Social Interest Decrease with More Screen Time\n",
    "Screen time also correlates with lower **confidence** (H = 37.63, p < 0.001) and **interest in others** (H = 14.14, p = 0.003), reflecting a **significant relationship** where those with higher screen time tend to report less self-confidence and social engagement, possibly due to social withdrawal or comparison.\n",
    "\n",
    "Adolescents with higher screen time might have **lower self-confidence**, possibly due to increased exposure to social comparison (e.g., on social media), or it could reflect disengagement from activities that build self-assurance.\n",
    "\n",
    "#### 3. Coping Ability and Relaxation Are Unaffected by Screen Time\n",
    "No significant correlation was found between screen time and the ability to **deal with problems** (H = 5.75, p = 0.12) or **relaxation** (H = 1.31, p = 0.73), indicating that these aspects of well-being are largely unaffected by screen time and likely influenced by other factors. \n",
    "\n",
    "These results underline the **negative impact of excessive screen time** on emotional and social well-being, while showing that coping skills and relaxation remain stable."
   ]
  }
 ],
 "metadata": {
  "kernelspec": {
   "display_name": "hit140env",
   "language": "python",
   "name": "python3"
  },
  "language_info": {
   "codemirror_mode": {
    "name": "ipython",
    "version": 3
   },
   "file_extension": ".py",
   "mimetype": "text/x-python",
   "name": "python",
   "nbconvert_exporter": "python",
   "pygments_lexer": "ipython3",
   "version": "3.12.4"
  }
 },
 "nbformat": 4,
 "nbformat_minor": 2
}
